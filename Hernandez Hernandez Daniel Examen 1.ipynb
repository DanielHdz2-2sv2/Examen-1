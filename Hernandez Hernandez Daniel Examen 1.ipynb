{
  "nbformat": 4,
  "nbformat_minor": 0,
  "metadata": {
    "colab": {
      "name": "EXAMEN.ipynb",
      "provenance": [],
      "collapsed_sections": []
    },
    "kernelspec": {
      "name": "python3",
      "display_name": "Python 3"
    }
  },
  "cells": [
    {
      "cell_type": "markdown",
      "metadata": {
        "id": "qQSm6rlxyyUy"
      },
      "source": [
        "HERNÁNDEZ HERNÁNDEZ DANIEL 2SV2 EXAMEN 1\n",
        "1. Escribir un programa que calcule las ra ́ıces de\n",
        "\n",
        "ax2 + bx + c = 0 \n",
        "(1)\n",
        "\n",
        "Esto lo puede hacer con la ecuaci ́on general de segundo orden\n",
        "\n",
        "x1,2 =−b ±√b2 − 4ac/2a\n",
        "\n",
        "(2)\n",
        "\n",
        "Si el discriminante (b2 − 4ac) es negativo, entonces debe de imprimir\n",
        "\n",
        "Error, el discriminante tiene que se positivo\n",
        "y debe de volver a leer los valores de los coeficientes a, b y c, esto se debe de ciclar hasta que\n",
        "el discriminante sea positivo.\n",
        "\n"
      ]
    },
    {
      "cell_type": "code",
      "metadata": {
        "id": "6buwyuPkyy-3",
        "outputId": "bc509bd2-0f7d-4201-9322-6037cb67944b",
        "colab": {
          "base_uri": "https://localhost:8080/"
        }
      },
      "source": [
        "import math\n",
        "print(\"Ingrese los valores de a, b y c\")\n",
        "delta=-1\n",
        "while delta<=0:\n",
        "    a = float(input(\"Ingrese el valor de a: \"))\n",
        "    b = float(input(\"Ingrese el valor de b: \"))\n",
        "    c = float(input(\"Ingrese el valor de c: \"))\n",
        "    delta=(b**2)-(4*a*c)\n",
        "    if delta>0:\n",
        "       delta= math.sqrt(delta)\n",
        "       x1 = (-b+delta)/(2*a)\n",
        "       x2 = (-b-delta)/(2*a)\n",
        "       print(\"X1: \", x1)\n",
        "       print(\"X2: \", x2)\n",
        "    else:\n",
        "      print(\"Error el discriminante tiene que ser positivo\")\n",
        "      print(\"Ingrese nuevamente los valores\")"
      ],
      "execution_count": 11,
      "outputs": [
        {
          "output_type": "stream",
          "text": [
            "Ingrese los valores de a, b y c\n",
            "Ingrese el valor de a: -5\n",
            "Ingrese el valor de b: -9\n",
            "Ingrese el valor de c: -4\n",
            "X1:  -1.0\n",
            "X2:  -0.8\n"
          ],
          "name": "stdout"
        }
      ]
    },
    {
      "cell_type": "markdown",
      "metadata": {
        "id": "g9ejH0Z60-_f"
      },
      "source": [
        "2. Sea la funcion\n",
        "\n",
        "f(x) = e−x\n",
        "(3)\n",
        "Realizar un funci ́on que acepte como argumento el valor de x, que calcule el valor de f(x) y\n",
        "que lo regrese a la funci ́on principal.\n",
        "En el programa principal, debe de hacer un bucle que ayude a evaluar la funci ́on con valores\n",
        "desde -4 hasta 10 y que pare el bucle cuando el valor e f(x) sea menor que 0.0025,\n",
        "Guardar en una lista el valor de las iteraciones conforme van pasando.\n",
        "Pistas: Debes de utilizar el bucle while con un contador que comienza en -4 y debe de ir\n",
        "sumando en uno.\n",
        "\n",
        "La lista vacıa se declara con miLista=[] y cada que quieras agregar alg ́un elemento te conviene\n",
        "utilizar .append(valor). puedes declarar e = 2.7182818284 como una variable y despues\n",
        "hacer la matematica correspondiente."
      ]
    },
    {
      "cell_type": "code",
      "metadata": {
        "id": "675KNWuU8kPh",
        "outputId": "ae297ae6-6fdb-4484-c003-d0c884d529d0",
        "colab": {
          "base_uri": "https://localhost:8080/"
        }
      },
      "source": [
        "print(\"f(x)=e^(-x)\")\n",
        "def funcion (x):\n",
        "  f= (2.718281)**(-x)\n",
        "  return (f)\n",
        "\n",
        "  x=-4\n",
        "\n",
        "  while x<10:\n",
        "    x+=1\n",
        "    ev= ((2.718281)**(-(x)))\n",
        "    print(ev)\n",
        "    if ev<=0.0025:\n",
        "      break \n",
        "  \n",
        "  print()"
      ],
      "execution_count": 41,
      "outputs": [
        {
          "output_type": "stream",
          "text": [
            "f(x)=e^(-x)\n"
          ],
          "name": "stdout"
        }
      ]
    },
    {
      "cell_type": "code",
      "metadata": {
        "id": "Xa0h35WWAz1d",
        "outputId": "af76c85f-bf0a-4762-ad44-a1d77cf510fd",
        "colab": {
          "base_uri": "https://localhost:8080/"
        }
      },
      "source": [
        "def funcion (x):\n",
        "  f= (2.718281)**(-x)\n",
        "  return (f)\n",
        "\n",
        "x= -4\n",
        "while  x<10:\n",
        "    x+=1\n",
        "    ev= ((2.718281)**(-(x)))\n",
        "    print(ev)\n",
        "    if ev<=0.0025:\n",
        "      break \n",
        "      print(\"la funcion dada:\", ev)\n",
        "      print(\"ingrese valores de 10 a -4\")\n"
      ],
      "execution_count": 48,
      "outputs": [
        {
          "output_type": "stream",
          "text": [
            "20.085518558602185\n",
            "7.389051594961001\n",
            "2.718281\n",
            "1.0\n",
            "0.367879553291216\n",
            "0.13533536572974464\n",
            "0.0497871138891618\n",
            "0.018315661217203738\n",
            "0.0067379572668181615\n",
            "0.0024787567094123678\n"
          ],
          "name": "stdout"
        }
      ]
    },
    {
      "cell_type": "code",
      "metadata": {
        "id": "gbBmYN0HA3YP"
      },
      "source": [
        ""
      ],
      "execution_count": null,
      "outputs": []
    }
  ]
}